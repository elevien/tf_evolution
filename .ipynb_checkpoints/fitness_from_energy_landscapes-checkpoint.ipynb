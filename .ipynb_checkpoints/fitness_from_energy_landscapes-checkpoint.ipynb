{
 "cells": [
  {
   "cell_type": "code",
   "execution_count": 9,
   "metadata": {},
   "outputs": [],
   "source": [
    "import random,copy,math,time,os,csv,sys\n",
    "\n",
    "from importlib import reload\n",
    "\n",
    "import pandas as pd\n",
    "import thermodynamic_model as tfe # this is the module I wrote \n",
    "\n",
    "# numpy/scipy stuff\n",
    "import numpy as np\n",
    "from scipy import optimize  # used for fitting\n",
    "from scipy import stats\n",
    "\n",
    "# plotting stuff\n",
    "import matplotlib.pyplot as plt\n",
    "import matplotlib.style\n",
    "import matplotlib as mpl\n",
    "import matplotlib.gridspec as gridspec\n",
    "\n",
    "from matplotlib import rc\n",
    "FONT_SIZE = 20\n",
    "rc('font',**{'family':'serif','serif':['CMU Serif']})\n",
    "rc('axes', titlesize=FONT_SIZE,labelsize=FONT_SIZE)  \n",
    "plt.rc('xtick', labelsize=15)    # fontsize of the tick labels\n",
    "plt.rc('ytick', labelsize=15)    # fontsize of the tick labels\n",
    "plt.rc('legend', fontsize=15) \n",
    "mpl.rcParams['font.size'] = 12\n",
    "rc('text', usetex=True)\n",
    "\n",
    "%matplotlib inline"
   ]
  },
  {
   "cell_type": "markdown",
   "metadata": {},
   "source": [
    "# Energy distribution for random sites"
   ]
  },
  {
   "cell_type": "code",
   "execution_count": 10,
   "metadata": {},
   "outputs": [
    {
     "data": {
      "text/plain": [
       "Text(0.5, 0, 'Position')"
      ]
     },
     "execution_count": 10,
     "metadata": {},
     "output_type": "execute_result"
    },
    {
     "data": {
      "image/png": "[encoded data removed]",
      "text/plain": [
       "<Figure size 432x288 with 1 Axes>"
      ]
     },
     "metadata": {
      "needs_background": "light"
     },
     "output_type": "display_data"
    }
   ],
   "source": [
    "L = 14\n",
    "# generate energy matrix\n",
    "# units are in kbT\n",
    "E = np.random.normal(0.15,0.1,(L,4)) \n",
    "E[:,1] = 0.1*np.ones(L)\n",
    "site = np.random.choice(range(4),L)\n",
    "A = np.zeros((4,L))\n",
    "plt.imshow(E.T)\n",
    "\n",
    "# plotting stuff\n",
    "ax = plt.gca()\n",
    "plt.yticks(np.arange(4), ('A','G','C','T'))\n",
    "ax.set_ylabel('Base')\n",
    "ax.set_xlabel('Position')"
   ]
  },
  {
   "cell_type": "code",
   "execution_count": 11,
   "metadata": {},
   "outputs": [],
   "source": [
    "g_set = [np.random.choice(range(4),L) for k in range(10000)]\n",
    "E_rand = []\n",
    "for g in g_set:\n",
    "    E_sum= np.sum([E[k,g[k]] for k in range(L)])\n",
    "    E_rand.append(E_sum)"
   ]
  },
  {
   "cell_type": "code",
   "execution_count": 12,
   "metadata": {},
   "outputs": [
    {
     "data": {
      "text/plain": [
       "Text(0.5, 0, '$E$')"
      ]
     },
     "execution_count": 12,
     "metadata": {},
     "output_type": "execute_result"
    },
    {
     "data": {
      "image/png": "[encoded data removed]",
      "text/plain": [
       "<Figure size 432x288 with 1 Axes>"
      ]
     },
     "metadata": {
      "needs_background": "light"
     },
     "output_type": "display_data"
    }
   ],
   "source": [
    "# plot histogram of normalized energy\n",
    "hist,bins= np.histogram((E_rand-np.mean(E_rand))/np.std(E_rand),50,density=True);\n",
    "bins = (bins[1:]+bins[:-1])/2\n",
    "plt.plot(bins,hist,'-',label='$P_0(E)$')\n",
    "\n",
    "# compare to Guassian\n",
    "plt.plot(bins,1/np.sqrt(2*np.pi)*np.exp(-bins**2/2),'k--',label='Normal')\n",
    "\n",
    "# plotting stuff\n",
    "plt.legend(loc='upper right',frameon=False)\n",
    "ax = plt.gca()\n",
    "ax.set_ylabel('Density')\n",
    "ax.set_xlabel('$E$')"
   ]
  },
  {
   "cell_type": "markdown",
   "metadata": {},
   "source": [
    "# Energy distribution of site under selection"
   ]
  },
  {
   "cell_type": "markdown",
   "metadata": {},
   "source": [
    "## Build thermodynamic model using tf_thermodynamic_model class"
   ]
  },
  {
   "cell_type": "code",
   "execution_count": 13,
   "metadata": {},
   "outputs": [],
   "source": [
    "# I've written a class for working with thermodynamic models of tf evolution. \n",
    "# In order to define a model, we need the following paramaters\n",
    "L = 14 # number of base pairs in each site          \n",
    "M_sites = 1 # number of binding sites\n",
    "M_factors = 1 # number of transcription factors\n",
    "binding_energies = [E] # binding energy matrices for each tf (a list of M_factors L x 4 arrays)\n",
    "#binding_energies[0][:,0]= np.ones(L)\n",
    "interaction_energies = np.array([[0.0]]) # no protien-protien interactions in this mode so don't worry about this \n",
    "rates = np.zeros((M_sites,M_factors))  # transcription rates\n",
    "rates[0,0]= 1.\n",
    "tf_concentrations = np.array([1.]) # tf concentrations"
   ]
  },
  {
   "cell_type": "code",
   "execution_count": 14,
   "metadata": {},
   "outputs": [],
   "source": [
    "reload(tfe)\n",
    "model = tfe.tf_thermodynamic_model(binding_energies,interaction_energies,rates,tf_concentrations,M_sites)\n",
    "sel= 0.05 # strength of selection on gene expression at site\n",
    "def fitness_func(model,g): # use expression level as proxy for fitness\n",
    "    return sel*model.expression_level(g)"
   ]
  },
  {
   "cell_type": "code",
   "execution_count": 21,
   "metadata": {},
   "outputs": [
    {
     "name": "stdout",
     "output_type": "stream",
     "text": [
      "[[3 2 2 3 1 2 1 3 0 0 2 1 2 1]]\n"
     ]
    },
    {
     "data": {
      "text/plain": [
       "0.006748983257330832"
      ]
     },
     "execution_count": 21,
     "metadata": {},
     "output_type": "execute_result"
    }
   ],
   "source": [
    "g0 = np.array([np.random.choice(range(4),L) for k in range(M_sites)])\n",
    "print(g0)\n",
    "fitness_func(model,g0)"
   ]
  },
  {
   "cell_type": "markdown",
   "metadata": {},
   "source": [
    "## Look at the fitness landscape of random sites"
   ]
  },
  {
   "cell_type": "code",
   "execution_count": 22,
   "metadata": {},
   "outputs": [],
   "source": [
    "g_set = [np.array([np.random.choice(range(3),L)]*M_sites) for k in range(50)]\n",
    "f_set = [fitness_func(model,g) for g in g_set]\n",
    "E_set = [np.sum([binding_energies[0][k,g[0][k]] for k in range(L)]) for g in g_set]"
   ]
  },
  {
   "cell_type": "code",
   "execution_count": 23,
   "metadata": {},
   "outputs": [
    {
     "data": {
      "text/plain": [
       "<matplotlib.legend.Legend at 0x111df7e48>"
      ]
     },
     "execution_count": 23,
     "metadata": {},
     "output_type": "execute_result"
    },
    {
     "data": {
      "image/png": "[encoded data removed]",
      "text/plain": [
       "<Figure size 432x288 with 1 Axes>"
      ]
     },
     "metadata": {
      "needs_background": "light"
     },
     "output_type": "display_data"
    }
   ],
   "source": [
    "plt.plot(E_set,f_set,'o',label='Random genomes')\n",
    "x = np.linspace(np.min(E_set),np.max(E_set),100)\n",
    "plt.plot(x,sel/(1+np.exp(x)),'k--',label=r'$s/(1+e^E)$')\n",
    "ax = plt.gca()\n",
    "ax.set_xlabel(r'$E$')\n",
    "ax.set_ylabel('Fitness')\n",
    "plt.legend(loc='upper right',frameon=False)"
   ]
  },
  {
   "cell_type": "markdown",
   "metadata": {},
   "source": [
    "## Run stochastic simulations in SSWM regime"
   ]
  },
  {
   "cell_type": "code",
   "execution_count": null,
   "metadata": {},
   "outputs": [],
   "source": [
    "ne = 1000\n",
    "tmax = 500\n",
    "t,g = model.substitution_evolution(tmax,g0,fitness_func,0.2,ne)"
   ]
  },
  {
   "cell_type": "code",
   "execution_count": null,
   "metadata": {},
   "outputs": [],
   "source": [
    "f_path = [fitness_func(model,gt.reshape((M_sites,L))) for gt in g ]\n",
    "E_path = [np.sum([E[k,gt.reshape((M_sites,L))[0,k]] for k in range(L)]) for gt in g ]"
   ]
  },
  {
   "cell_type": "code",
   "execution_count": null,
   "metadata": {},
   "outputs": [],
   "source": [
    "plt.semilogy(t,f_path,'-',alpha=0.9)\n",
    "ax = plt.gca()\n",
    "ax.set_xlabel('Time')\n",
    "ax.set_ylabel('Fitness')"
   ]
  },
  {
   "cell_type": "code",
   "execution_count": null,
   "metadata": {},
   "outputs": [],
   "source": [
    "plt.semilogy(t,E_path,'-',alpha=0.9)\n",
    "ax = plt.gca()\n",
    "ax.set_xlabel('Time')\n",
    "ax.set_ylabel('Energy')"
   ]
  },
  {
   "cell_type": "markdown",
   "metadata": {},
   "source": [
    "## Compare inferred fitness landscape to analytical formula"
   ]
  },
  {
   "cell_type": "code",
   "execution_count": null,
   "metadata": {},
   "outputs": [],
   "source": [
    "E_stat = E_path[200:] # get the stationary distribution by ignoring the initial transient \n",
    "E_all= E_stat+E_rand\n",
    "bins = np.linspace(np.min(E_rand),np.max(E_all),40)\n",
    "hist,x= np.histogram(E_stat,bins,density=True);\n",
    "hist_rand,x= np.histogram(E_rand,bins,density=True);\n",
    "x = (bins[1:]+bins[:-1])/2"
   ]
  },
  {
   "cell_type": "code",
   "execution_count": null,
   "metadata": {},
   "outputs": [],
   "source": [
    "plt.plot(x,hist_rand,label='Random')\n",
    "plt.semilogy(x,hist,'--',label='Functional')\n",
    "ax = plt.gca()\n",
    "ax.set_xlabel(r'$E$')\n",
    "ax.set_ylabel('Density')\n",
    "plt.legend(loc='upper right',frameon=False)"
   ]
  },
  {
   "cell_type": "code",
   "execution_count": null,
   "metadata": {},
   "outputs": [],
   "source": [
    "const = np.log(hist[3]/hist_rand[3]) - 2*sel*ne/(1+np.exp(x[3]))\n",
    "plt.plot(x,np.log(hist/hist_rand)-const,'o',label =r'$\\ln(Q_f(E)/P_0(E))+{\\rm const.}$')\n",
    "plt.semilogy(x,2*sel*ne/(1+np.exp(x)),'k--',label =r'$2F(E)N_e$')\n",
    "ax = plt.gca()\n",
    "ax.set_xlabel('E')\n",
    "plt.legend(loc='lower left',frameon=False)"
   ]
  },
  {
   "cell_type": "code",
   "execution_count": null,
   "metadata": {},
   "outputs": [],
   "source": []
  },
  {
   "cell_type": "code",
   "execution_count": null,
   "metadata": {},
   "outputs": [],
   "source": []
  }
 ],
 "metadata": {
  "kernelspec": {
   "display_name": "Python 3",
   "language": "python",
   "name": "python3"
  },
  "language_info": {
   "codemirror_mode": {
    "name": "ipython",
    "version": 3
   },
   "file_extension": ".py",
   "mimetype": "text/x-python",
   "name": "python",
   "nbconvert_exporter": "python",
   "pygments_lexer": "ipython3",
   "version": "3.7.3"
  }
 },
 "nbformat": 4,
 "nbformat_minor": 2
}
